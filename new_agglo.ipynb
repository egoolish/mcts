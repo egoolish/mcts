{
 "cells": [
  {
   "cell_type": "code",
   "execution_count": 1,
   "metadata": {},
   "outputs": [
    {
     "name": "stdout",
     "output_type": "stream",
     "text": [
      "Collecting git+https://github.com/egoolish/ecp_python\n",
      "  Cloning https://github.com/egoolish/ecp_python to /private/var/folders/1r/_mt76hv974ddmv82vjxl18pm0000gn/T/pip-req-build-9qvoe5t7\n",
      "Requirement already satisfied (use --upgrade to upgrade): ecp==0.1 from git+https://github.com/egoolish/ecp_python in /Users/ethangoolish/miniconda3/lib/python3.7/site-packages\n",
      "Requirement already satisfied: numpy in /Users/ethangoolish/miniconda3/lib/python3.7/site-packages (from ecp==0.1) (1.16.4)\n",
      "Requirement already satisfied: scipy in /Users/ethangoolish/miniconda3/lib/python3.7/site-packages (from ecp==0.1) (1.3.1)\n",
      "Building wheels for collected packages: ecp\n",
      "  Building wheel for ecp (setup.py) ... \u001b[?25ldone\n",
      "\u001b[?25h  Stored in directory: /private/var/folders/1r/_mt76hv974ddmv82vjxl18pm0000gn/T/pip-ephem-wheel-cache-687jo4l_/wheels/16/c4/81/5f49ffa704964ad0a2def2f6626cc7e67a718ffa2355d93782\n",
      "Successfully built ecp\n",
      "Note: you may need to restart the kernel to use updated packages.\n"
     ]
    }
   ],
   "source": [
    "pip install git+https://github.com/egoolish/ecp_python"
   ]
  },
  {
   "cell_type": "code",
   "execution_count": 49,
   "metadata": {},
   "outputs": [],
   "source": [
    "#import needed packages\n",
    "\n",
    "import numpy as np\n",
    "from matplotlib import pyplot as plt\n",
    "from sklearn.preprocessing import normalize\n",
    "import time\n",
    "from ecp import e_divisive, e_agglomerative\n",
    "%matplotlib inline\n",
    "from sklearn.cluster import AgglomerativeClustering as AG"
   ]
  },
  {
   "cell_type": "code",
   "execution_count": 50,
   "metadata": {},
   "outputs": [],
   "source": [
    "# P is the (k x k) transition matrix\n",
    "# S is the vector of averages for each state (of length k)\n",
    "# sigma is the shared variance\n",
    "# n is the number of points to generate (length of time series)\n",
    "# if debug = True, return state_gen rather than time_series.\n",
    "def mkv_to_ts(P, S, sigma = 1, n = 10000, debug=False):\n",
    "    k = len(S)\n",
    "    base_matrix = np.tile(S, (n, 1)).T\n",
    "    noise_matrix = np.random.normal(0, sigma, (k, n))\n",
    "    full_matrix = base_matrix + noise_matrix\n",
    "    \n",
    "    state_gen = np.empty(n, dtype = np.int32)\n",
    "    state_gen[0] = 0\n",
    "    for i in range(1, n):\n",
    "        state_gen[i] = np.random.choice(k, p=P[state_gen[i-1]])\n",
    "    return state_gen if debug else np.choose(state_gen, full_matrix)"
   ]
  },
  {
   "cell_type": "code",
   "execution_count": 51,
   "metadata": {},
   "outputs": [],
   "source": [
    "def MCTS(ts, num_of_states, alpha=1):\n",
    "    labels = AG(num_of_states).fit_predict(np.reshape(ts, (len(ts), 1)))\n",
    "    ests = [0]\n",
    "    ests_labels = []\n",
    "    for i in range(1, len(labels)):\n",
    "        if labels[i] != labels[i-1]:\n",
    "            ests.append(i)\n",
    "            ests_labels.append(labels[i])\n",
    "    ests.append(len(labels))\n",
    "    ests_labels.append(labels[-1])\n",
    "    \n",
    "    ests = np.array(ests)\n",
    "    ests_labels = np.array(ests_labels)\n",
    "\n",
    "    lens = np.diff(ests)\n",
    "    find_avg_time = np.vectorize(lambda x : np.mean(lens[ests_labels == x]))\n",
    "    avg_times = find_avg_time(np.arange(num_of_states))\n",
    "\n",
    "    P_diag = np.vectorize(lambda x : (x - 1)/x)(avg_times)\n",
    "\n",
    "    est_P = np.zeros((num_of_states, num_of_states)) + alpha\n",
    "    for i in range(1, len(labels)):\n",
    "        est_P[labels[i-1], labels[i]] += 1\n",
    "    np.fill_diagonal(est_P, 0)\n",
    "    est_P = normalize(est_P, axis = 1, norm='l1')\n",
    "    est_P = (est_P.T*(1 - P_diag)).T\n",
    "    np.fill_diagonal(est_P, P_diag)\n",
    "    \n",
    "    est_S = np.vectorize(lambda x: np.mean(ts[labels == x]))(np.arange(num_of_states))\n",
    "\n",
    "    return est_P, est_S"
   ]
  },
  {
   "cell_type": "code",
   "execution_count": 58,
   "metadata": {},
   "outputs": [
    {
     "name": "stdout",
     "output_type": "stream",
     "text": [
      "Time Series Length: 1000\n",
      "Generation took: 0.046369075775146484\n",
      "MCTS took: 0.027651071548461914\n",
      "np.linalg.norm(P - est_P): 1.0470996556674712\n",
      "np.linalg.norm(S - est_S): 7.718549574143191\n",
      "[-0.720042    5.01085083  0.98137574]\n",
      "[[0.47091413 0.01090899 0.51817689]\n",
      " [0.16326531 0.42857143 0.40816327]\n",
      " [0.30582524 0.01618123 0.67799353]]\n",
      "\n"
     ]
    }
   ],
   "source": [
    "P = np.array([[0.85, 0.15, 0.00],\n",
    "              [0.005, 0.99, 0.005],\n",
    "              [0.01, 0.04, 0.95]])\n",
    "S = np.array([-5, 0, 5])\n",
    "\n",
    "N = 1000\n",
    "K = int(N/(1/(1 - P[0, 0]))) + N/100\n",
    "ms = 2\n",
    "num_of_states = len(S)\n",
    "\n",
    "t1 = time.time()\n",
    "ts = mkv_to_ts(P, S, n=N)\n",
    "t2 = time.time()\n",
    "\n",
    "est_P, est_S = MCTS(ts, num_of_states)\n",
    "t3 = time.time()\n",
    "\n",
    "print(\"Time Series Length: \" + str(N))\n",
    "print(\"Generation took: \" + str(t2 - t1))\n",
    "print(\"MCTS took: \" + str(t3 - t2))\n",
    "print(\"np.linalg.norm(P - est_P): \" + str(np.linalg.norm(P - est_P)))\n",
    "print(\"np.linalg.norm(S - est_S): \" + str(np.linalg.norm(S - est_S)))\n",
    "print(est_S)\n",
    "print(est_P)\n",
    "print()"
   ]
  },
  {
   "cell_type": "code",
   "execution_count": null,
   "metadata": {},
   "outputs": [],
   "source": []
  },
  {
   "cell_type": "code",
   "execution_count": null,
   "metadata": {},
   "outputs": [],
   "source": []
  }
 ],
 "metadata": {
  "kernelspec": {
   "display_name": "Python 3",
   "language": "python",
   "name": "python3"
  },
  "language_info": {
   "codemirror_mode": {
    "name": "ipython",
    "version": 3
   },
   "file_extension": ".py",
   "mimetype": "text/x-python",
   "name": "python",
   "nbconvert_exporter": "python",
   "pygments_lexer": "ipython3",
   "version": "3.7.3"
  }
 },
 "nbformat": 4,
 "nbformat_minor": 2
}
