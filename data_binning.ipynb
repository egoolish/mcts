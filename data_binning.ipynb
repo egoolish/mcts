{
 "cells": [
  {
   "cell_type": "code",
   "execution_count": 4,
   "metadata": {},
   "outputs": [],
   "source": [
    "# Ethan Goolish, Jan 2020.\n",
    "# Processes raw FRET data into binned format."
   ]
  },
  {
   "cell_type": "code",
   "execution_count": 5,
   "metadata": {},
   "outputs": [],
   "source": [
    "# Import Needed Packages\n",
    "\n",
    "import pandas as pd\n",
    "import numpy as np"
   ]
  },
  {
   "cell_type": "code",
   "execution_count": 48,
   "metadata": {},
   "outputs": [
    {
     "name": "stdout",
     "output_type": "stream",
     "text": [
      "\n",
      "Original Data\n",
      "   Microtime  Channel  Nanotime        ts  ts_int\n",
      "0     7297.0      3.0    2032.0  0.729781       0\n",
      "1    11991.0      3.0     156.0  1.199131       1\n",
      "2    16075.0      4.0    1134.0  1.607571       1\n",
      "3    24444.0      3.0      84.0  2.444455       2\n",
      "4    26971.0      4.0     806.0  2.697184       2\n",
      "\n",
      "\n",
      "Final Output:\n",
      "        ts_start  n_accept  n_donor  effi\n",
      "0          0.000         1        0   1.0\n",
      "1          0.001         1        1   0.5\n",
      "2          0.002         2        2   0.5\n",
      "3          0.003         0        1   0.0\n",
      "4          0.004         0        2   0.0\n",
      "...          ...       ...      ...   ...\n",
      "179984   179.984         0        1   0.0\n",
      "179985   179.985         0        0   NaN\n",
      "179986   179.986         0        0   NaN\n",
      "179987   179.987         0        0   NaN\n",
      "179988   179.988         1        0   1.0\n",
      "\n",
      "[179989 rows x 4 columns]\n",
      "\n"
     ]
    },
    {
     "data": {
      "image/png": "[encoded data removed]",
      "text/plain": [
       "<Figure size 432x288 with 1 Axes>"
      ]
     },
     "metadata": {
      "needs_background": "light"
     },
     "output_type": "display_data"
    }
   ],
   "source": [
    "# Define which file to bin data from\n",
    "filename = 'noprotein.txt'\n",
    "filepath = 'fret_data/'\n",
    "\n",
    "fileloc = filepath + filename\n",
    "\n",
    "# Size of bin = 1/precision seconds.\n",
    "precision = 1000 # default = 100 \n",
    "\n",
    "# Read in the file to a pandas data frame\n",
    "df = pd.read_csv(fileloc, sep = \"\\t\", skiprows=2, header=None)\n",
    "df.columns = ['Microtime', 'Channel', 'Nanotime']\n",
    "\n",
    "# Find TS Labels:\n",
    "# From the github page \"https://github.com/cgoolsby/smFRET_exploration/blob/master/notebooks/Initial%20Exploration.ipynb\"\n",
    "# We have the following description:\n",
    "# \" To find the timestamp, simply sum\n",
    "#   ts = (column1 * e-7 + column2 * 3.2e-11)\"\"\n",
    "#\n",
    "# Note: I believe this gives you time in seconds, which you then multiply by \"precision\"\n",
    "#       to get bins of size \"precision\". Index i corresponds to the time segment given by\n",
    "#       (i/precision, (i+1)/precision). \n",
    "#\n",
    "# Store this in column 'ts'\n",
    "# Round down to nearest int via cast to bin, store in column 'ts_int'\n",
    "df['ts'] = ((df['Microtime']*1.0000216e-07 + df['Nanotime']*3.2e-11)*precision) \n",
    "df['ts_int'] = df['ts'].astype('int64')\n",
    "\n",
    "# Print the Full DataFrame\n",
    "print()\n",
    "print(\"Original Data\")\n",
    "print(df.head())\n",
    "print()\n",
    "\n",
    "# Split DataFrame into Acceptor and Donor\n",
    "accept_df = df[np.isclose(df['Channel'], 3)]\n",
    "donor_df = df[np.isclose(df['Channel'], 4)]\n",
    "\n",
    "# Put all the pieces together in the final dataframe\n",
    "# ts_start is the start of the time segment in seconds\n",
    "# n_accept is the number of acceptor in the time segment\n",
    "# n_donor is the number of donor in the time segment\n",
    "# effi is the calculated efficiency, given by n_accept/(n_accept + n_donor)\n",
    "ret = pd.DataFrame(data = {'ts_start' : np.arange(df['ts_int'].max() + 1)})\n",
    "ret['n_accept'] = pd.value_counts(accept_df['ts_int']).reindex(ret['ts_start'], fill_value = 0)\n",
    "ret['n_donor'] = pd.value_counts(donor_df['ts_int']).reindex(ret['ts_start'], fill_value = 0)\n",
    "ret['ts_start'] /= precision\n",
    "ret['effi'] = ret['n_accept']/(ret['n_accept'] + ret['n_donor'])\n",
    "\n",
    "\n",
    "# Draws a Histogram, prints the dataframe, then writes to a csv file.\n",
    "ret['effi'].hist(bins=150)\n",
    "print()\n",
    "print(\"Final Output:\")\n",
    "print(ret)\n",
    "print()\n",
    "newfileloc = filepath + 'binned_ms_' + filename\n",
    "ret.to_csv(newfileloc, index=False)"
   ]
  },
  {
   "cell_type": "code",
   "execution_count": null,
   "metadata": {},
   "outputs": [],
   "source": []
  }
 ],
 "metadata": {
  "kernelspec": {
   "display_name": "Python 3",
   "language": "python",
   "name": "python3"
  },
  "language_info": {
   "codemirror_mode": {
    "name": "ipython",
    "version": 3
   },
   "file_extension": ".py",
   "mimetype": "text/x-python",
   "name": "python",
   "nbconvert_exporter": "python",
   "pygments_lexer": "ipython3",
   "version": "3.7.3"
  }
 },
 "nbformat": 4,
 "nbformat_minor": 2
}
